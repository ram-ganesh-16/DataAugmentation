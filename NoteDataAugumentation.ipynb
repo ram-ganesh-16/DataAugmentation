{
  "nbformat": 4,
  "nbformat_minor": 0,
  "metadata": {
    "colab": {
      "name": "NoteDataAugumentation.ipynb",
      "version": "0.3.2",
      "provenance": [],
      "collapsed_sections": [],
      "toc_visible": true,
      "include_colab_link": true
    },
    "kernelspec": {
      "name": "python3",
      "display_name": "Python 3"
    }
  },
  "cells": [
    {
      "cell_type": "markdown",
      "metadata": {
        "id": "view-in-github",
        "colab_type": "text"
      },
      "source": [
        "<a href=\"https://colab.research.google.com/github/ram-ganesh-16/DataAugmentation/blob/master/NoteDataAugumentation.ipynb\" target=\"_parent\"><img src=\"https://colab.research.google.com/assets/colab-badge.svg\" alt=\"Open In Colab\"/></a>"
      ]
    },
    {
      "cell_type": "code",
      "metadata": {
        "id": "01qfg4678sfM",
        "colab_type": "code",
        "outputId": "1a5955bb-f555-4557-d438-0eb3a0c415cd",
        "colab": {
          "base_uri": "https://localhost:8080/",
          "height": 54
        }
      },
      "source": [
        "#To implement all Augmentation methods in one file.\n",
        "from numpy import expand_dims\n",
        "from keras.preprocessing.image import load_img\n",
        "from keras.preprocessing.image import img_to_array\n",
        "from keras.preprocessing.image import ImageDataGenerator\n",
        "from matplotlib import pyplot\n",
        "\n",
        "from google.colab import drive\n",
        "drive.mount('/content/gdrive')\n",
        "datagen = ImageDataGenerator(rotation_range =5, \n",
        "                         width_shift_range = 0.1, \n",
        "                         height_shift_range = 0.,  \n",
        "                         rescale=1/255, \n",
        "                         shear_range=0.1, \n",
        "                         zoom_range=0., \n",
        "                         horizontal_flip = True, \n",
        "                         fill_mode = 'nearest', \n",
        "                         data_format='channels_last', \n",
        "                         brightness_range=[0.1, 1])\n",
        "\n",
        " \n",
        "\n",
        "img = load_img(r'gdrive/My Drive/NoteDetectionImages/DataSets/1.jpg')\n",
        "\n",
        "x = img_to_array(img)\n",
        "x = x.reshape((1,) + x.shape)\n",
        "\n",
        "i = 0\n",
        "for batch in datagen.flow (x, batch_size=10, \n",
        "                           save_to_dir =r'gdrive/My Drive/NoteDetectionImages/ImagesAfterAugmentation',\n",
        "                           save_format='jpg'):\n",
        "    i+=1\n",
        "    if i>10:\n",
        "        break\n",
        "                           \n"
      ],
      "execution_count": 0,
      "outputs": [
        {
          "output_type": "stream",
          "text": [
            "Drive already mounted at /content/gdrive; to attempt to forcibly remount, call drive.mount(\"/content/gdrive\", force_remount=True).\n"
          ],
          "name": "stdout"
        }
      ]
    }
  ]
}