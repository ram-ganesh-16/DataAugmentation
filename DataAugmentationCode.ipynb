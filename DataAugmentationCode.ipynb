{
  "nbformat": 4,
  "nbformat_minor": 0,
  "metadata": {
    "colab": {
      "name": "DataAugmentationCode.ipynb",
      "version": "0.3.2",
      "provenance": [],
      "collapsed_sections": [],
      "include_colab_link": true
    },
    "kernelspec": {
      "name": "python3",
      "display_name": "Python 3"
    }
  },
  "cells": [
    {
      "cell_type": "markdown",
      "metadata": {
        "id": "view-in-github",
        "colab_type": "text"
      },
      "source": [
        "<a href=\"https://colab.research.google.com/github/ram-ganesh-16/DataAugmentation/blob/master/DataAugmentationCode.ipynb\" target=\"_parent\"><img src=\"https://colab.research.google.com/assets/colab-badge.svg\" alt=\"Open In Colab\"/></a>"
      ]
    },
    {
      "cell_type": "code",
      "metadata": {
        "colab_type": "code",
        "outputId": "b7deae44-a03e-426d-fef9-66a48e5db12b",
        "id": "ZbHQfjaFngYO",
        "colab": {
          "base_uri": "https://localhost:8080/",
          "height": 71
        }
      },
      "source": [
        "\n",
        "#To implement all Augmentation methods with all images at once(using one directory).\n",
        "from numpy import expand_dims\n",
        "from keras.preprocessing.image import load_img\n",
        "from keras.preprocessing.image import img_to_array\n",
        "from keras.preprocessing.image import ImageDataGenerator\n",
        "from matplotlib import pyplot\n",
        "\n",
        "from google.colab import drive\n",
        "drive.mount('/content/gdrive')\n",
        "\n",
        "dataset = ImageDataGenerator( rotation_range =5)\n",
        "\n",
        "  \n",
        "                        \n",
        "i = 0\n",
        "for batch in dataset.flow_from_directory ('gdrive/My Drive/NoteDetection/Data',\n",
        "                                          batch_size=5,\n",
        "                                          target_size=(580,1240),\n",
        "                                          save_to_dir =r\"gdrive/My Drive/NoteDetection/ImagesAfterAugmentation/Rotation_Angle\",\n",
        "                                          seed=None,\n",
        "                                          save_prefix='N',\n",
        "                                          save_format='jpg'):\n",
        "    i+=1\n",
        "    if i>204:\n",
        "        break"
      ],
      "execution_count": 99,
      "outputs": [
        {
          "output_type": "stream",
          "text": [
            "Drive already mounted at /content/gdrive; to attempt to forcibly remount, call drive.mount(\"/content/gdrive\", force_remount=True).\n",
            "Found 204 images belonging to 1 classes.\n"
          ],
          "name": "stdout"
        }
      ]
    },
    {
      "cell_type": "code",
      "metadata": {
        "id": "TZ4NQKJ7noNX",
        "colab_type": "code",
        "colab": {
          "base_uri": "https://localhost:8080/",
          "height": 71
        },
        "outputId": "c7ceee07-276b-47b3-e2b3-5be491ed7b56"
      },
      "source": [
        "#To implement all Augmentation methods with all images at once(using one directory).\n",
        "from numpy import expand_dims\n",
        "from keras.preprocessing.image import load_img\n",
        "from keras.preprocessing.image import img_to_array\n",
        "from keras.preprocessing.image import ImageDataGenerator\n",
        "from matplotlib import pyplot\n",
        "\n",
        "from google.colab import drive\n",
        "drive.mount('/content/gdrive')\n",
        "\n",
        "\n",
        "dataset = ImageDataGenerator( width_shift_range = 0.2)\n",
        "\n",
        "  \n",
        "                        \n",
        "i = 0\n",
        "for batch in dataset.flow_from_directory ('gdrive/My Drive/NoteDetection/Data',\n",
        "                                          batch_size=5,\n",
        "                                          target_size=(580,1240),\n",
        "                                          save_to_dir =r\"gdrive/My Drive/NoteDetection/ImagesAfterAugmentation/Width_Shift\",\n",
        "                                          seed=None,\n",
        "                                          save_prefix='N',\n",
        "                                          save_format='jpg'):\n",
        "    i+=1\n",
        "    if i>204:\n",
        "        break"
      ],
      "execution_count": 100,
      "outputs": [
        {
          "output_type": "stream",
          "text": [
            "Drive already mounted at /content/gdrive; to attempt to forcibly remount, call drive.mount(\"/content/gdrive\", force_remount=True).\n",
            "Found 204 images belonging to 1 classes.\n"
          ],
          "name": "stdout"
        }
      ]
    },
    {
      "cell_type": "code",
      "metadata": {
        "id": "kGZipfN0no4h",
        "colab_type": "code",
        "colab": {
          "base_uri": "https://localhost:8080/",
          "height": 71
        },
        "outputId": "ad6d595a-6817-4cdd-a241-7d70e329e1ba"
      },
      "source": [
        "#To implement all Augmentation methods with all images at once(using one directory).\n",
        "from numpy import expand_dims\n",
        "from keras.preprocessing.image import load_img\n",
        "from keras.preprocessing.image import img_to_array\n",
        "from keras.preprocessing.image import ImageDataGenerator\n",
        "from matplotlib import pyplot\n",
        "\n",
        "from google.colab import drive\n",
        "drive.mount('/content/gdrive')\n",
        "\n",
        "dataset = ImageDataGenerator(height_shift_range = 0.2)\n",
        "\n",
        "  \n",
        "                        \n",
        "i = 0\n",
        "for batch in dataset.flow_from_directory ('gdrive/My Drive/NoteDetection/Data',\n",
        "                                          batch_size=5,\n",
        "                                          target_size=(580,1240),\n",
        "                                          save_to_dir =r\"gdrive/My Drive/NoteDetection/ImagesAfterAugmentation/Height_Shift\",\n",
        "                                          seed=None,\n",
        "                                          save_prefix='N',\n",
        "                                          save_format='jpg'):\n",
        "    i+=1\n",
        "    if i>204:\n",
        "        break"
      ],
      "execution_count": 101,
      "outputs": [
        {
          "output_type": "stream",
          "text": [
            "Drive already mounted at /content/gdrive; to attempt to forcibly remount, call drive.mount(\"/content/gdrive\", force_remount=True).\n",
            "Found 204 images belonging to 1 classes.\n"
          ],
          "name": "stdout"
        }
      ]
    },
    {
      "cell_type": "code",
      "metadata": {
        "id": "bFRySevKnphz",
        "colab_type": "code",
        "colab": {
          "base_uri": "https://localhost:8080/",
          "height": 71
        },
        "outputId": "65fdd330-ad4b-433b-dfcb-5939e110ddf9"
      },
      "source": [
        "#To implement all Augmentation methods with all images at once(using one directory).\n",
        "from numpy import expand_dims\n",
        "from keras.preprocessing.image import load_img\n",
        "from keras.preprocessing.image import img_to_array\n",
        "from keras.preprocessing.image import ImageDataGenerator\n",
        "from matplotlib import pyplot\n",
        "\n",
        "from google.colab import drive\n",
        "drive.mount('/content/gdrive')\n",
        "\n",
        "dataset = ImageDataGenerator(zoom_range=0.2)\n",
        "\n",
        "  \n",
        "                        \n",
        "i = 0\n",
        "for batch in dataset.flow_from_directory ('gdrive/My Drive/NoteDetection/Data',\n",
        "                                          batch_size=5,\n",
        "                                          target_size=(580,1240),\n",
        "                                          save_to_dir =r\"gdrive/My Drive/NoteDetection/ImagesAfterAugmentation/Zoom_Range\",\n",
        "                                          seed=None,\n",
        "                                          save_prefix='N',\n",
        "                                          save_format='jpg'):\n",
        "    i+=1\n",
        "    if i>204:\n",
        "        break"
      ],
      "execution_count": 102,
      "outputs": [
        {
          "output_type": "stream",
          "text": [
            "Drive already mounted at /content/gdrive; to attempt to forcibly remount, call drive.mount(\"/content/gdrive\", force_remount=True).\n",
            "Found 204 images belonging to 1 classes.\n"
          ],
          "name": "stdout"
        }
      ]
    },
    {
      "cell_type": "code",
      "metadata": {
        "id": "GOZdBo91nqQA",
        "colab_type": "code",
        "colab": {
          "base_uri": "https://localhost:8080/",
          "height": 71
        },
        "outputId": "b91caba0-6656-474c-fb7e-78836f4f69e9"
      },
      "source": [
        "#To implement all Augmentation methods with all images at once(using one directory).\n",
        "from numpy import expand_dims\n",
        "from keras.preprocessing.image import load_img\n",
        "from keras.preprocessing.image import img_to_array\n",
        "from keras.preprocessing.image import ImageDataGenerator\n",
        "from matplotlib import pyplot\n",
        "\n",
        "from google.colab import drive\n",
        "drive.mount('/content/gdrive')\n",
        "\n",
        "dataset = ImageDataGenerator( brightness_range=[0.1, 1.0])\n",
        "\n",
        "  \n",
        "i = 0\n",
        "for batch in dataset.flow_from_directory ('gdrive/My Drive/NoteDetection/Data',\n",
        "                                          batch_size=5,\n",
        "                                          target_size=(580,1240),\n",
        "                                          save_to_dir =r\"gdrive/My Drive/NoteDetection/ImagesAfterAugmentation/Brightness_Range\",\n",
        "                                          seed=None,\n",
        "                                          save_prefix='N',\n",
        "                                          save_format='jpg'):\n",
        "    i+=1\n",
        "    if i>204:\n",
        "        break"
      ],
      "execution_count": 103,
      "outputs": [
        {
          "output_type": "stream",
          "text": [
            "Drive already mounted at /content/gdrive; to attempt to forcibly remount, call drive.mount(\"/content/gdrive\", force_remount=True).\n",
            "Found 204 images belonging to 1 classes.\n"
          ],
          "name": "stdout"
        }
      ]
    },
    {
      "cell_type": "code",
      "metadata": {
        "id": "357fyZFunq60",
        "colab_type": "code",
        "colab": {
          "base_uri": "https://localhost:8080/",
          "height": 71
        },
        "outputId": "4553f4f0-14a1-4cd1-b82b-bff8ed4ee1c9"
      },
      "source": [
        "#To implement all Augmentation methods with all images at once(using one directory).\n",
        "from numpy import expand_dims\n",
        "from keras.preprocessing.image import load_img\n",
        "from keras.preprocessing.image import img_to_array\n",
        "from keras.preprocessing.image import ImageDataGenerator\n",
        "from matplotlib import pyplot\n",
        "\n",
        "from google.colab import drive\n",
        "drive.mount('/content/gdrive')\n",
        "\n",
        "dataset = ImageDataGenerator(  horizontal_flip = True,)\n",
        "\n",
        "  \n",
        "                        \n",
        "i = 0\n",
        "for batch in dataset.flow_from_directory ('gdrive/My Drive/NoteDetection/Data',\n",
        "                                          batch_size=5,\n",
        "                                          target_size=(580,1240),\n",
        "                                          save_to_dir =r\"gdrive/My Drive/NoteDetection/ImagesAfterAugmentation/Horizontal_Flip\",\n",
        "                                          seed=None,\n",
        "                                          save_prefix='N',\n",
        "                                          save_format='jpg'):\n",
        "    i+=1\n",
        "    if i>204:\n",
        "        break"
      ],
      "execution_count": 104,
      "outputs": [
        {
          "output_type": "stream",
          "text": [
            "Drive already mounted at /content/gdrive; to attempt to forcibly remount, call drive.mount(\"/content/gdrive\", force_remount=True).\n",
            "Found 204 images belonging to 1 classes.\n"
          ],
          "name": "stdout"
        }
      ]
    }
  ]
}