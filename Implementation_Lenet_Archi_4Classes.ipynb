{
  "nbformat": 4,
  "nbformat_minor": 0,
  "metadata": {
    "colab": {
      "name": "Implementation_Lenet_Archi_4Classes.ipynb",
      "version": "0.3.2",
      "provenance": [],
      "collapsed_sections": [],
      "include_colab_link": true
    },
    "kernelspec": {
      "name": "python3",
      "display_name": "Python 3"
    }
  },
  "cells": [
    {
      "cell_type": "markdown",
      "metadata": {
        "id": "view-in-github",
        "colab_type": "text"
      },
      "source": [
        "<a href=\"https://colab.research.google.com/github/ram-ganesh-16/DataAugmentation/blob/master/Implementation_Lenet_Archi_4Classes.ipynb\" target=\"_parent\"><img src=\"https://colab.research.google.com/assets/colab-badge.svg\" alt=\"Open In Colab\"/></a>"
      ]
    },
    {
      "cell_type": "code",
      "metadata": {
        "id": "Qt9ZnhbattEG",
        "colab_type": "code",
        "outputId": "e68bfd06-cc25-4b2f-cf25-654c569e633e",
        "colab": {
          "base_uri": "https://localhost:8080/",
          "height": 144
        }
      },
      "source": [
        "import tensorflow as tf\n",
        "from PIL import Image\n",
        "import matplotlib.pyplot as plt\n",
        "import matplotlib\n",
        "import os\n",
        "import numpy as np\n",
        "#Mounting your GOOGLE DRIVE to Colab \n",
        "from google.colab import drive\n",
        "drive.mount('/content/drive/')\n",
        "\n",
        "print(\"Google Drive mounted successfully\")"
      ],
      "execution_count": 0,
      "outputs": [
        {
          "output_type": "stream",
          "text": [
            "Go to this URL in a browser: https://accounts.google.com/o/oauth2/auth?client_id=947318989803-6bn6qk8qdgf4n4g3pfee6491hc0brc4i.apps.googleusercontent.com&redirect_uri=urn%3Aietf%3Awg%3Aoauth%3A2.0%3Aoob&scope=email%20https%3A%2F%2Fwww.googleapis.com%2Fauth%2Fdocs.test%20https%3A%2F%2Fwww.googleapis.com%2Fauth%2Fdrive%20https%3A%2F%2Fwww.googleapis.com%2Fauth%2Fdrive.photos.readonly%20https%3A%2F%2Fwww.googleapis.com%2Fauth%2Fpeopleapi.readonly&response_type=code\n",
            "\n",
            "Enter your authorization code:\n",
            "··········\n",
            "Mounted at /content/drive/\n",
            "Google Drive mounted successfully\n"
          ],
          "name": "stdout"
        }
      ]
    },
    {
      "cell_type": "code",
      "metadata": {
        "id": "-jouTKnzuWas",
        "colab_type": "code",
        "outputId": "1033b19e-8e0c-47de-db01-5fe9d95efc3d",
        "colab": {
          "base_uri": "https://localhost:8080/",
          "height": 35
        }
      },
      "source": [
        "%pwd"
      ],
      "execution_count": 0,
      "outputs": [
        {
          "output_type": "execute_result",
          "data": {
            "text/plain": [
              "'/content'"
            ]
          },
          "metadata": {
            "tags": []
          },
          "execution_count": 2
        }
      ]
    },
    {
      "cell_type": "code",
      "metadata": {
        "id": "9vF1qCGQuWeM",
        "colab_type": "code",
        "outputId": "2903bd7e-768a-430e-d9b9-2a0aead95063",
        "colab": {
          "base_uri": "https://localhost:8080/",
          "height": 35
        }
      },
      "source": [
        "%cd /content/drive/My Drive/Colab Notebooks"
      ],
      "execution_count": 0,
      "outputs": [
        {
          "output_type": "stream",
          "text": [
            "/content/drive/My Drive/Colab Notebooks\n"
          ],
          "name": "stdout"
        }
      ]
    },
    {
      "cell_type": "code",
      "metadata": {
        "id": "0Btl2u3uuWkU",
        "colab_type": "code",
        "outputId": "b38808ff-78f1-463f-b0c5-827adf2c7b31",
        "colab": {
          "base_uri": "https://localhost:8080/",
          "height": 35
        }
      },
      "source": [
        "%pwd "
      ],
      "execution_count": 0,
      "outputs": [
        {
          "output_type": "execute_result",
          "data": {
            "text/plain": [
              "'/content/drive/My Drive/Colab Notebooks'"
            ]
          },
          "metadata": {
            "tags": []
          },
          "execution_count": 4
        }
      ]
    },
    {
      "cell_type": "code",
      "metadata": {
        "id": "HjddnANUuWhZ",
        "colab_type": "code",
        "colab": {}
      },
      "source": [
        "path12 = \"/content/drive/My Drive/Colab Notebooks/NoteDetection/Data/10Aug\"\n",
        "path22 = \"/content/drive/My Drive/Colab Notebooks/NoteDetection/Data/20Aug\"\n",
        "path32 = \"/content/drive/My Drive/Colab Notebooks/NoteDetection/Data/100Aug\"\n",
        "path42=  \"/content/drive/My Drive/Colab Notebooks/NoteDetection/Data/500Aug\"\n",
        "\n",
        "listing1 = os.listdir(path12)\n",
        "listing2 = os.listdir(path22)\n",
        "listing3 = os.listdir(path32)\n",
        "listing4 = os.listdir(path42)\n",
        "\n",
        "print(\"Path Established !\")"
      ],
      "execution_count": 0,
      "outputs": []
    },
    {
      "cell_type": "code",
      "metadata": {
        "id": "2EmuvNqpuWnm",
        "colab_type": "code",
        "colab": {}
      },
      "source": [
        "#Loading the dataset into an array to give multiple samples at a time for training\n",
        "Note_10 = np.array([np.array(Image.open(path12+'/'+lm)) for lm in listing1])\n",
        "Note_20 = np.array([np.array(Image.open(path22+'/'+lm)) for lm in listing2])\n",
        "Note_100 = np.array([np.array(Image.open(path32+'/'+lm)) for lm in listing3])\n",
        "Note_500 = np.array([np.array(Image.open(path42+'/'+lm)) for lm in listing4])\n",
        "\n",
        "print(\"Listing is Done!\")"
      ],
      "execution_count": 0,
      "outputs": []
    },
    {
      "cell_type": "code",
      "metadata": {
        "id": "t66EYLFPFqp6",
        "colab_type": "code",
        "colab": {}
      },
      "source": [
        "DataSet =np.append(Note_10,Note_20,axis=0)\n",
        "DataGen=np.append(Note_100,Note_500,axis=0)\n",
        "DataJoin=np.append(DataSet,DataGen,axis=0)\n",
        "\n",
        "print(DataSet.shape)\n",
        "print(DataGen.shape)\n",
        "print(DataJoin.shape)"
      ],
      "execution_count": 0,
      "outputs": []
    },
    {
      "cell_type": "code",
      "metadata": {
        "id": "5iE3niy2uWqi",
        "colab_type": "code",
        "colab": {}
      },
      "source": [
        "path12Test = \"/content/drive/My Drive/Colab Notebooks/NoteDetection/test_10\"\n",
        "path22Test = \"/content/drive/My Drive/Colab Notebooks/NoteDetection/test_20\"\n",
        "path32Test = \"/content/drive/My Drive/Colab Notebooks/NoteDetection/test_100\"\n",
        "path42Test = \"/content/drive/My Drive/Colab Notebooks/NoteDetection/test_500\"\n",
        "\n",
        "listing1Test = os.listdir(path12Test)\n",
        "listing2Test = os.listdir(path22Test)\n",
        "listing3Test = os.listdir(path32Test)\n",
        "listing4Test = os.listdir(path42Test)\n",
        "\n",
        "print(\"Path Established !\")"
      ],
      "execution_count": 0,
      "outputs": []
    },
    {
      "cell_type": "code",
      "metadata": {
        "id": "Raq1dhlluWtn",
        "colab_type": "code",
        "colab": {}
      },
      "source": [
        "Test_10 =np.array([(np.array(Image.open(path12Test+'/'+ls))) for ls in listing1Test ])\n",
        "Test_20 = np.array([(np.array(Image.open(path22Test+'/'+ls))) for ls in listing2Test])\n",
        "Test_100 = np.array([(np.array(Image.open(path32Test+'/'+ls))) for ls in listing3Test])\n",
        "Test_500 = np.array([(np.array(Image.open(path42Test+'/'+ls))) for ls in listing4Test])\n",
        "\n"
      ],
      "execution_count": 0,
      "outputs": []
    },
    {
      "cell_type": "code",
      "metadata": {
        "id": "ERM_m9o0xHBy",
        "colab_type": "code",
        "colab": {}
      },
      "source": [
        "DatasetTest = np.append(Test_10,Test_20,axis=0)\n",
        "DatagenTest = np.append(Test_100,Test_500,axis=0)\n",
        "DatajoinTest= np.append(DatasetTest,DatagenTest,axis=0)\n",
        "\n",
        "print(DatasetTest.shape)\n",
        "print(DatagenTest.shape)\n",
        "print(DatajoinTest.shape)"
      ],
      "execution_count": 0,
      "outputs": []
    },
    {
      "cell_type": "code",
      "metadata": {
        "id": "3bh6OQJ7uXBN",
        "colab_type": "code",
        "colab": {}
      },
      "source": [
        "print(\"Number of 10 samples : \", Note_10.shape[0])\n",
        "print(\"Number of 20 samples : \", Note_20.shape[0])\n",
        "print(\"Number of 100 samples : \", Note_100.shape[0])\n",
        "print(\"Number of 500 samples : \", Note_500.shape[0])"
      ],
      "execution_count": 0,
      "outputs": []
    },
    {
      "cell_type": "code",
      "metadata": {
        "id": "X5331BfbuXD6",
        "colab_type": "code",
        "colab": {}
      },
      "source": [
        "print(\"Number of 10 samples : \", Test_10.shape[0])\n",
        "print(\"Number of 20 samples : \", Test_20.shape[0])\n",
        "print(\"Number of 100 samples : \", Test_100.shape[0])\n",
        "print(\"Number of 500 samples : \", Test_500.shape[0])"
      ],
      "execution_count": 0,
      "outputs": []
    },
    {
      "cell_type": "code",
      "metadata": {
        "id": "KGGCE8kG5Iie",
        "colab_type": "code",
        "colab": {}
      },
      "source": [
        "plt.imshow(DatajoinTest[499].reshape(256,256), cmap= 'gray')\n"
      ],
      "execution_count": 0,
      "outputs": []
    },
    {
      "cell_type": "code",
      "metadata": {
        "id": "P3VVf1_o5V9V",
        "colab_type": "code",
        "colab": {}
      },
      "source": [
        "plt.imshow(DatajoinTest[893].reshape(256,256), cmap= 'gray')"
      ],
      "execution_count": 0,
      "outputs": []
    },
    {
      "cell_type": "code",
      "metadata": {
        "id": "VDPn2O6O5dCw",
        "colab_type": "code",
        "colab": {}
      },
      "source": [
        "plt.imshow(DatajoinTest[1411].reshape(256,256), cmap= 'gray')"
      ],
      "execution_count": 0,
      "outputs": []
    },
    {
      "cell_type": "code",
      "metadata": {
        "id": "aNqdmF1t5n3-",
        "colab_type": "code",
        "colab": {}
      },
      "source": [
        "plt.imshow(DatajoinTest[2109].reshape(256,256), cmap= 'gray')"
      ],
      "execution_count": 0,
      "outputs": []
    },
    {
      "cell_type": "code",
      "metadata": {
        "id": "Y7SmGc_NuXGX",
        "colab_type": "code",
        "colab": {}
      },
      "source": [
        "plt.imshow(DataJoin[4323].reshape(256,256), cmap= 'gray')\n"
      ],
      "execution_count": 0,
      "outputs": []
    },
    {
      "cell_type": "code",
      "metadata": {
        "id": "f5QBA2hP2kUD",
        "colab_type": "code",
        "colab": {}
      },
      "source": [
        "plt.imshow(DataJoin[6468].reshape(256,256), cmap= 'gray')\n"
      ],
      "execution_count": 0,
      "outputs": []
    },
    {
      "cell_type": "code",
      "metadata": {
        "id": "wahd1DkEuXI4",
        "colab_type": "code",
        "colab": {}
      },
      "source": [
        "\n",
        "plt.imshow(DataJoin[10416].reshape(256,256), cmap= 'gray')"
      ],
      "execution_count": 0,
      "outputs": []
    },
    {
      "cell_type": "code",
      "metadata": {
        "id": "apXM3gUx3P1v",
        "colab_type": "code",
        "colab": {}
      },
      "source": [
        "\n",
        "plt.imshow(DataJoin[14568].reshape(256,256), cmap= 'gray')"
      ],
      "execution_count": 0,
      "outputs": []
    },
    {
      "cell_type": "code",
      "metadata": {
        "id": "CTzSsOiSuXLd",
        "colab_type": "code",
        "colab": {}
      },
      "source": [
        "Labels = np.ones([14569,4])  # create an array of the size of the training data\n",
        "\n",
        "Labels[0:4324] = [1,0,0,0]   #Assign the label 0 to 100 INR\n",
        "Labels[4324:6469] = [0,1,0,0]   #Assign the label 1 to 500 INR\n",
        "Labels[6469:10417] = [0,0,1,0]\n",
        "Labels[10417:14569] = [0,0,0,1]\n",
        "\n",
        "print(\"Labeling done !\")\n",
        "#Note: In case of more than 2 classes, one-hot encoding should be used. Check out what is one-hot encoding\n",
        "\n"
      ],
      "execution_count": 0,
      "outputs": []
    },
    {
      "cell_type": "code",
      "metadata": {
        "id": "z3AgPM_3uXN6",
        "colab_type": "code",
        "colab": {}
      },
      "source": [
        "Labels[4323],Labels[6468],Labels[10416],Labels[14568]"
      ],
      "execution_count": 0,
      "outputs": []
    },
    {
      "cell_type": "code",
      "metadata": {
        "id": "UR94_mLzuXQX",
        "colab_type": "code",
        "colab": {}
      },
      "source": [
        "DataJoin.shape,Labels.shape"
      ],
      "execution_count": 0,
      "outputs": []
    },
    {
      "cell_type": "code",
      "metadata": {
        "id": "GajooFP14b83",
        "colab_type": "code",
        "colab": {}
      },
      "source": [
        "LabelsTest = np.ones([2110,4])\n",
        "LabelsTest[0:500] =[1,0,0,0]\n",
        "LabelsTest[500:894] = [0,1,0,0]\n",
        "LabelsTest[894:1412] = [0,0,1,0]\n",
        "LabelsTest[1412:2110] = [0,0,0,1]\n",
        "\n",
        "print(\"Labeling done !\")"
      ],
      "execution_count": 0,
      "outputs": []
    },
    {
      "cell_type": "code",
      "metadata": {
        "id": "6_Hag7e-8tBt",
        "colab_type": "code",
        "colab": {}
      },
      "source": [
        "LabelsTest[499],LabelsTest[893],LabelsTest[1411],LabelsTest[2109]"
      ],
      "execution_count": 0,
      "outputs": []
    },
    {
      "cell_type": "code",
      "metadata": {
        "id": "VrGqi-u1-CFc",
        "colab_type": "code",
        "colab": {}
      },
      "source": [
        "DatajoinTest.shape,LabelsTest.shape"
      ],
      "execution_count": 0,
      "outputs": []
    },
    {
      "cell_type": "code",
      "metadata": {
        "id": "LsGUmAKAuXS1",
        "colab_type": "code",
        "colab": {}
      },
      "source": [
        "from sklearn.utils import shuffle\n",
        "\n",
        "# shuffling the records\n",
        "\n",
        "DataJoin,Labels = shuffle(DataJoin,Labels,random_state=3)\n",
        "\n",
        "print(\"Shuffling Done !\")"
      ],
      "execution_count": 0,
      "outputs": []
    },
    {
      "cell_type": "code",
      "metadata": {
        "id": "TtUunDMfuXVj",
        "colab_type": "code",
        "colab": {}
      },
      "source": [
        "plt.imshow(DataJoin[513].reshape(256,256), cmap= 'gray'),Labels[513]"
      ],
      "execution_count": 0,
      "outputs": []
    },
    {
      "cell_type": "code",
      "metadata": {
        "id": "Tt97ycxnuXYN",
        "colab_type": "code",
        "colab": {}
      },
      "source": [
        "(plt.imshow(DataJoin[12052].reshape(256,256), cmap='gray'),Labels[1205])"
      ],
      "execution_count": 0,
      "outputs": []
    },
    {
      "cell_type": "code",
      "metadata": {
        "id": "WC3GdN8kuXgD",
        "colab_type": "code",
        "colab": {}
      },
      "source": [
        "DataJoin = DataJoin.reshape(-1,256,256,1)\n",
        "\n",
        "DatajoinTest = DatajoinTest.reshape(-1,256,256,1)"
      ],
      "execution_count": 0,
      "outputs": []
    },
    {
      "cell_type": "code",
      "metadata": {
        "id": "tn-dI751uXid",
        "colab_type": "code",
        "colab": {}
      },
      "source": [
        "DataJoin = DataJoin.astype('float32')\n",
        "\n",
        "DatajoinTest = DatajoinTest.astype('float32')\n",
        "\n"
      ],
      "execution_count": 0,
      "outputs": []
    },
    {
      "cell_type": "code",
      "metadata": {
        "id": "h_xDQWNb-yq7",
        "colab_type": "code",
        "colab": {}
      },
      "source": [
        "#normalizing by Division by 255\n",
        "DataJoin = DataJoin/ 255.\n",
        "DatajoinTest =DatajoinTest/255."
      ],
      "execution_count": 0,
      "outputs": []
    },
    {
      "cell_type": "code",
      "metadata": {
        "id": "wu1jGuveuXlL",
        "colab_type": "code",
        "colab": {}
      },
      "source": [
        "from sklearn.model_selection import train_test_split\n",
        "X_train,X_test,Y_train,Y_test = train_test_split(DataJoin,Labels,test_size=0.25,random_state=341)\n",
        "\n",
        "print(X_train.shape, X_test.shape)"
      ],
      "execution_count": 0,
      "outputs": []
    },
    {
      "cell_type": "code",
      "metadata": {
        "id": "JmhGAfd_uXnj",
        "colab_type": "code",
        "colab": {}
      },
      "source": [
        "(plt.imshow(X_test[342].reshape(256,256), cmap='gray'), Y_test[342])"
      ],
      "execution_count": 0,
      "outputs": []
    },
    {
      "cell_type": "code",
      "metadata": {
        "id": "Y_3Me9B5uXsc",
        "colab_type": "code",
        "colab": {}
      },
      "source": [
        "import tensorflow as tf\n",
        "import keras\n",
        "from keras.models import Sequential\n",
        "from keras.layers import Dense, Conv2D, Flatten, AveragePooling2D\n",
        "\n",
        "\n",
        "#LeNET Architecture\n",
        "\n",
        "model = keras.Sequential()\n",
        "\n",
        "model.add(Conv2D(filters=6, kernel_size=(3, 3), activation='relu', input_shape=(256,256,1)))   \n",
        "\n",
        "model.add(AveragePooling2D())  \n",
        "\n",
        "model.add(Conv2D(filters=16, kernel_size=(3, 3), activation='relu'))\n",
        "\n",
        "model.add(AveragePooling2D())\n",
        "\n",
        "model.add(Flatten())\n",
        "\n",
        "model.add(Dense(units=120, activation='relu'))\n",
        "\n",
        "model.add(Dense(units=60, activation='relu'))\n",
        "\n",
        "model.add(Dense(units=4, activation = tf.nn.softmax))"
      ],
      "execution_count": 0,
      "outputs": []
    },
    {
      "cell_type": "code",
      "metadata": {
        "id": "VBPi8xvPuXvG",
        "colab_type": "code",
        "colab": {}
      },
      "source": [
        "learning_rate=0.001\n",
        "BATCH_SIZE = 20\n",
        "num_classes = 4"
      ],
      "execution_count": 0,
      "outputs": []
    },
    {
      "cell_type": "code",
      "metadata": {
        "id": "HxFfKbg7uXxp",
        "colab_type": "code",
        "colab": {}
      },
      "source": [
        "model.compile(loss=keras.losses.binary_crossentropy, optimizer=keras.optimizers.Adam(), metrics=['accuracy'])"
      ],
      "execution_count": 0,
      "outputs": []
    },
    {
      "cell_type": "code",
      "metadata": {
        "id": "Hjy9aDWGuX0k",
        "colab_type": "code",
        "colab": {}
      },
      "source": [
        "model.summary()"
      ],
      "execution_count": 0,
      "outputs": []
    },
    {
      "cell_type": "code",
      "metadata": {
        "id": "NgdvowgsuX23",
        "colab_type": "code",
        "colab": {}
      },
      "source": [
        "# Use callbacks\n",
        "\n",
        "class myCallback(tf.keras.callbacks.Callback):\n",
        "  def on_epoch_end(self, epoch, logs={}):\n",
        "    if(logs.get('acc')==1.00):\n",
        "      print(\"\\nReached 98% accuracy so cancelling training!\")\n",
        "      self.model.stop_training = True\n",
        "\n",
        "callbacks = myCallback()\n",
        "\n",
        "#train the model\n",
        "model.fit(X_train, Y_train, validation_data=(X_test, Y_test), epochs=3, batch_size=BATCH_SIZE, callbacks=[callbacks])\n"
      ],
      "execution_count": 0,
      "outputs": []
    },
    {
      "cell_type": "code",
      "metadata": {
        "id": "Yi96WYQKuX5z",
        "colab_type": "code",
        "colab": {}
      },
      "source": [
        "DatajoinTest,LabelsTest = shuffle(DatajoinTest,LabelsTest,random_state=3)\n",
        "\n",
        "y_pred=model.predict(DatajoinTest, verbose=1)\n",
        "print(y_pred)\n",
        "rounded = [round(x[0]) for x in y_pred]\n",
        "y_pred1 = np.array(rounded, dtype='float64')\n",
        "print(y_pred1)"
      ],
      "execution_count": 0,
      "outputs": []
    },
    {
      "cell_type": "code",
      "metadata": {
        "id": "lYwQUxTBedwM",
        "colab_type": "code",
        "colab": {}
      },
      "source": [
        "for i in range(2110):\n",
        "  for j in range(4):\n",
        "    y_pred[i][j]=round(y_pred[i][j])"
      ],
      "execution_count": 0,
      "outputs": []
    },
    {
      "cell_type": "code",
      "metadata": {
        "id": "yRx7Hw6OehA_",
        "colab_type": "code",
        "colab": {}
      },
      "source": [
        "print(y_pred)"
      ],
      "execution_count": 0,
      "outputs": []
    },
    {
      "cell_type": "code",
      "metadata": {
        "id": "7K4hU-4KzpiR",
        "colab_type": "code",
        "colab": {}
      },
      "source": [
        "y_pred=model.predict(DatajoinTest, verbose=1)"
      ],
      "execution_count": 0,
      "outputs": []
    },
    {
      "cell_type": "code",
      "metadata": {
        "id": "qY0AnYsGuX8f",
        "colab_type": "code",
        "colab": {}
      },
      "source": [
        "print(LabelsTest)"
      ],
      "execution_count": 0,
      "outputs": []
    },
    {
      "cell_type": "code",
      "metadata": {
        "id": "EiawJGQXuX_R",
        "colab_type": "code",
        "colab": {}
      },
      "source": [
        "from sklearn.metrics import confusion_matrix, precision_score,accuracy_score\n",
        "\n",
        "confusion_matrix(LabelsTest.argmax(axis=1), y_pred.argmax(axis=1))\n",
        "\n",
        "\n"
      ],
      "execution_count": 0,
      "outputs": []
    },
    {
      "cell_type": "code",
      "metadata": {
        "id": "AysMAWUk0jaO",
        "colab_type": "code",
        "colab": {}
      },
      "source": [
        "print(\"Precision Score : \",precision_score(LabelsTest.argmax(axis=1), y_pred.argmax(axis=1), \n",
        "                                           pos_label='positive',\n",
        "                                           average='micro'))"
      ],
      "execution_count": 0,
      "outputs": []
    },
    {
      "cell_type": "code",
      "metadata": {
        "id": "kuA6Ddj1uYJa",
        "colab_type": "code",
        "colab": {}
      },
      "source": [
        "model.save(\"4Classes_LeNet_Arch.h5\")"
      ],
      "execution_count": 0,
      "outputs": []
    },
    {
      "cell_type": "code",
      "metadata": {
        "id": "XTl2BBOnuYOf",
        "colab_type": "code",
        "colab": {}
      },
      "source": [
        "!ls"
      ],
      "execution_count": 0,
      "outputs": []
    },
    {
      "cell_type": "code",
      "metadata": {
        "id": "Z1iy03K9uXat",
        "colab_type": "code",
        "colab": {}
      },
      "source": [
        ""
      ],
      "execution_count": 0,
      "outputs": []
    }
  ]
}